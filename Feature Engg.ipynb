{
 "cells": [
  {
   "cell_type": "code",
   "execution_count": 1,
   "id": "ee6021ce",
   "metadata": {},
   "outputs": [],
   "source": [
    "import pandas as pd\n",
    "import numpy as np"
   ]
  },
  {
   "cell_type": "code",
   "execution_count": 2,
   "id": "f31785a6",
   "metadata": {},
   "outputs": [],
   "source": [
    "df = pd.read_csv(\"song_recommendation_data_clean.csv\")"
   ]
  },
  {
   "cell_type": "code",
   "execution_count": 3,
   "id": "b6e27296",
   "metadata": {},
   "outputs": [],
   "source": [
    "df[\"total_listen_time_sec\"] = df[\"listen_time_min\"] * 60"
   ]
  },
  {
   "cell_type": "code",
   "execution_count": 4,
   "id": "66af6470",
   "metadata": {},
   "outputs": [],
   "source": [
    "df[\"listen_ratio\"] = df[\"total_listen_time_sec\"] / df[\"duration_sec\"]\n",
    "df[\"listen_ratio\"] = df[\"listen_ratio\"].clip(upper=1.0)"
   ]
  },
  {
   "cell_type": "code",
   "execution_count": 5,
   "id": "b9ec20d8",
   "metadata": {},
   "outputs": [],
   "source": [
    "df[\"high_engagement\"] = (df[\"listen_ratio\"] > 0.7).astype(int)"
   ]
  },
  {
   "cell_type": "code",
   "execution_count": 6,
   "id": "e1a22213",
   "metadata": {},
   "outputs": [],
   "source": [
    "df[\"time_of_day\"] = pd.cut(\n",
    "    df[\"listen_hour\"],\n",
    "    bins=[-1, 5, 12, 18, 24],\n",
    "    labels=[\"Night\", \"Morning\", \"Afternoon\", \"Evening\"]\n",
    ")"
   ]
  },
  {
   "cell_type": "code",
   "execution_count": 7,
   "id": "b380846d",
   "metadata": {},
   "outputs": [],
   "source": [
    "df[\"time_of_day\"] = df[\"time_of_day\"].astype(\"category\").cat.codes"
   ]
  },
  {
   "cell_type": "code",
   "execution_count": 8,
   "id": "da120710",
   "metadata": {},
   "outputs": [],
   "source": [
    "df[\"is_weekend\"] = df[\"listen_day_of_week\"].isin([5, 6]).astype(int)"
   ]
  },
  {
   "cell_type": "code",
   "execution_count": 9,
   "id": "dcd0cd52",
   "metadata": {},
   "outputs": [],
   "source": [
    "df[\"user_activity_level\"] = pd.cut(\n",
    "    df[\"user_previous_plays\"],\n",
    "    bins=[-1, 50, 200, np.inf],\n",
    "    labels=[\"Low\", \"Medium\", \"High\"]\n",
    ")"
   ]
  },
  {
   "cell_type": "code",
   "execution_count": 10,
   "id": "06837772",
   "metadata": {},
   "outputs": [],
   "source": [
    "df[\"user_activity_level\"] = df[\"user_activity_level\"].astype(\"category\").cat.codes"
   ]
  },
  {
   "cell_type": "code",
   "execution_count": 11,
   "id": "cc4253b1",
   "metadata": {},
   "outputs": [],
   "source": [
    "df[\"song_old\"] = (2025 - df[\"song_release_year\"] > 5).astype(int)"
   ]
  },
  {
   "cell_type": "code",
   "execution_count": 12,
   "id": "4b2c27fa",
   "metadata": {},
   "outputs": [],
   "source": [
    "df[\"dance_energy_product\"] = df[\"danceability\"] * df[\"energy\"]"
   ]
  },
  {
   "cell_type": "code",
   "execution_count": 13,
   "id": "469ca38a",
   "metadata": {},
   "outputs": [],
   "source": [
    "song_like_counts = df.groupby(\"song_id\")[\"liked\"].sum()\n",
    "popular_songs = song_like_counts[song_like_counts > 20].index.tolist()\n",
    "df[\"song_popular_flag\"] = df[\"song_id\"].isin(popular_songs).astype(int)"
   ]
  },
  {
   "cell_type": "code",
   "execution_count": 14,
   "id": "992529cc",
   "metadata": {},
   "outputs": [],
   "source": [
    "genre_avg_listen = df.groupby(\"genre\")[\"listen_time_min\"].transform(\"mean\")\n",
    "df[\"genre_avg_listen_diff\"] = df[\"listen_time_min\"] - genre_avg_listen\n"
   ]
  },
  {
   "cell_type": "code",
   "execution_count": 15,
   "id": "4322d07e",
   "metadata": {},
   "outputs": [],
   "source": [
    "df.to_csv(\"song_recommendation_data_fe.csv\", index=False)"
   ]
  }
 ],
 "metadata": {
  "kernelspec": {
   "display_name": "Python 3 (ipykernel)",
   "language": "python",
   "name": "python3"
  },
  "language_info": {
   "codemirror_mode": {
    "name": "ipython",
    "version": 3
   },
   "file_extension": ".py",
   "mimetype": "text/x-python",
   "name": "python",
   "nbconvert_exporter": "python",
   "pygments_lexer": "ipython3",
   "version": "3.11.5"
  }
 },
 "nbformat": 4,
 "nbformat_minor": 5
}
