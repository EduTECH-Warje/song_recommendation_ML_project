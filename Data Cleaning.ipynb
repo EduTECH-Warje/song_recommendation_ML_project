{
 "cells": [
  {
   "cell_type": "code",
   "execution_count": 1,
   "id": "e15fdec5",
   "metadata": {},
   "outputs": [],
   "source": [
    "import pandas as pd\n",
    "import numpy as np"
   ]
  },
  {
   "cell_type": "code",
   "execution_count": 2,
   "id": "feae7d0a",
   "metadata": {},
   "outputs": [],
   "source": [
    "df = pd.read_csv(\"song_recommendation_data.csv\")"
   ]
  },
  {
   "cell_type": "code",
   "execution_count": 3,
   "id": "163b7f65",
   "metadata": {},
   "outputs": [],
   "source": [
    "df = df.dropna(subset=[\"genre\", \"user_age\"])"
   ]
  },
  {
   "cell_type": "code",
   "execution_count": 4,
   "id": "304bf387",
   "metadata": {},
   "outputs": [],
   "source": [
    "df.loc[df[\"listen_time_min\"] < 0, \"listen_time_min\"] = np.nan"
   ]
  },
  {
   "cell_type": "code",
   "execution_count": 5,
   "id": "609e54a7",
   "metadata": {},
   "outputs": [
    {
     "name": "stderr",
     "output_type": "stream",
     "text": [
      "C:\\Users\\Vishal\\AppData\\Local\\Temp\\ipykernel_26856\\4087142337.py:1: FutureWarning: A value is trying to be set on a copy of a DataFrame or Series through chained assignment using an inplace method.\n",
      "The behavior will change in pandas 3.0. This inplace method will never work because the intermediate object on which we are setting values always behaves as a copy.\n",
      "\n",
      "For example, when doing 'df[col].method(value, inplace=True)', try using 'df.method({col: value}, inplace=True)' or df[col] = df[col].method(value) instead, to perform the operation inplace on the original object.\n",
      "\n",
      "\n",
      "  df[\"listen_time_min\"].fillna(df[\"listen_time_min\"].median(), inplace=True)\n"
     ]
    }
   ],
   "source": [
    "df[\"listen_time_min\"].fillna(df[\"listen_time_min\"].median(), inplace=True)"
   ]
  },
  {
   "cell_type": "code",
   "execution_count": 6,
   "id": "b07d72c6",
   "metadata": {},
   "outputs": [
    {
     "name": "stderr",
     "output_type": "stream",
     "text": [
      "C:\\Users\\Vishal\\AppData\\Local\\Temp\\ipykernel_26856\\3058551459.py:1: FutureWarning: A value is trying to be set on a copy of a DataFrame or Series through chained assignment using an inplace method.\n",
      "The behavior will change in pandas 3.0. This inplace method will never work because the intermediate object on which we are setting values always behaves as a copy.\n",
      "\n",
      "For example, when doing 'df[col].method(value, inplace=True)', try using 'df.method({col: value}, inplace=True)' or df[col] = df[col].method(value) instead, to perform the operation inplace on the original object.\n",
      "\n",
      "\n",
      "  df[\"genre\"].fillna(df[\"genre\"].mode()[0], inplace=True)\n",
      "C:\\Users\\Vishal\\AppData\\Local\\Temp\\ipykernel_26856\\3058551459.py:3: FutureWarning: A value is trying to be set on a copy of a DataFrame or Series through chained assignment using an inplace method.\n",
      "The behavior will change in pandas 3.0. This inplace method will never work because the intermediate object on which we are setting values always behaves as a copy.\n",
      "\n",
      "For example, when doing 'df[col].method(value, inplace=True)', try using 'df.method({col: value}, inplace=True)' or df[col] = df[col].method(value) instead, to perform the operation inplace on the original object.\n",
      "\n",
      "\n",
      "  df[\"user_age\"].fillna(df[\"user_age\"].median(), inplace=True)\n"
     ]
    }
   ],
   "source": [
    "df[\"genre\"].fillna(df[\"genre\"].mode()[0], inplace=True)\n",
    "\n",
    "df[\"user_age\"].fillna(df[\"user_age\"].median(), inplace=True)"
   ]
  },
  {
   "cell_type": "code",
   "execution_count": 7,
   "id": "88ab3793",
   "metadata": {},
   "outputs": [],
   "source": [
    "num_cols = [\"duration_sec\", \"artist_popularity\", \"acousticness\",\n",
    "            \"danceability\", \"energy\", \"valence\", \"tempo\",\n",
    "            \"listen_time_min\", \"user_age\", \"user_previous_plays\"]\n",
    "\n",
    "for col in num_cols:\n",
    "    q_low = df[col].quantile(0.01)\n",
    "    q_high = df[col].quantile(0.99)\n",
    "    df[col] = df[col].clip(lower=q_low, upper=q_high)\n"
   ]
  },
  {
   "cell_type": "code",
   "execution_count": 8,
   "id": "1f081eee",
   "metadata": {},
   "outputs": [],
   "source": [
    "cat_cols = [\n",
    "    \"genre\", \"language\", \"user_country\", \"user_platform\",\n",
    "    \"user_subscription\", \"network_quality\"\n",
    "]\n",
    "for col in cat_cols:\n",
    "    df[col] = df[col].astype(\"category\").cat.codes"
   ]
  },
  {
   "cell_type": "code",
   "execution_count": 9,
   "id": "7209b366",
   "metadata": {},
   "outputs": [],
   "source": [
    "binary_cols = [\"explicit\", \"liked\", \"added_to_playlist\"]\n",
    "\n",
    "for col in binary_cols:\n",
    "    df[col] = df[col].astype(int)"
   ]
  },
  {
   "cell_type": "code",
   "execution_count": 10,
   "id": "e6b84449",
   "metadata": {},
   "outputs": [
    {
     "name": "stdout",
     "output_type": "stream",
     "text": [
      "\n",
      "Missing after cleaning:\n",
      " Series([], dtype: int64)\n"
     ]
    }
   ],
   "source": [
    "missing = df.isnull().sum()\n",
    "print(\"\\nMissing after cleaning:\\n\", missing[missing > 0])"
   ]
  },
  {
   "cell_type": "code",
   "execution_count": 11,
   "id": "cadd7107",
   "metadata": {},
   "outputs": [],
   "source": [
    "df.to_csv(\"song_recommendation_data_clean.csv\", index=False)"
   ]
  }
 ],
 "metadata": {
  "kernelspec": {
   "display_name": "Python 3 (ipykernel)",
   "language": "python",
   "name": "python3"
  },
  "language_info": {
   "codemirror_mode": {
    "name": "ipython",
    "version": 3
   },
   "file_extension": ".py",
   "mimetype": "text/x-python",
   "name": "python",
   "nbconvert_exporter": "python",
   "pygments_lexer": "ipython3",
   "version": "3.11.5"
  }
 },
 "nbformat": 4,
 "nbformat_minor": 5
}
